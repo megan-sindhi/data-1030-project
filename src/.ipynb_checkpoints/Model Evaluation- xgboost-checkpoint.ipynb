{
 "cells": [
  {
   "cell_type": "code",
   "execution_count": 2,
   "id": "01a91021",
   "metadata": {},
   "outputs": [],
   "source": [
    "import pandas as pd\n",
    "import numpy as np\n",
    "from sklearn.model_selection import train_test_split \n",
    "from sklearn.compose import ColumnTransformer\n",
    "from sklearn.pipeline import Pipeline\n",
    "from sklearn.preprocessing import StandardScaler, OneHotEncoder, MinMaxScaler\n",
    "from sklearn.model_selection import train_test_split\n",
    "from sklearn.metrics import fbeta_score\n",
    "from sklearn.model_selection import ParameterGrid"
   ]
  },
  {
   "cell_type": "code",
   "execution_count": 3,
   "id": "265c4a68",
   "metadata": {},
   "outputs": [],
   "source": [
    "df = pd.read_excel(\"../data/default of credit card clients.xls\", header = 1)\n",
    "\n",
    "df = df.rename(columns={'default payment next month': 'DEFAULT'})\n",
    "df['EDUCATION'] = df['EDUCATION'].replace([5],4) ##5 and 6 are also others which is what 4 is\n",
    "df['EDUCATION'] = df['EDUCATION'].replace([6],4)\n",
    "X = df.drop(columns = ['DEFAULT','ID'])\n",
    "y= df['DEFAULT']\n"
   ]
  },
  {
   "cell_type": "code",
   "execution_count": 4,
   "id": "1b7a359f",
   "metadata": {},
   "outputs": [],
   "source": [
    "onehot_ftrs = ['SEX','EDUCATION', 'MARRIAGE', 'PAY_0', 'PAY_2' ,'PAY_3', 'PAY_4','PAY_5','PAY_6']\n",
    "minmax_ftrs = ['AGE']\n",
    "std_ftrs = ['LIMIT_BAL','BILL_AMT1','BILL_AMT2' ,'BILL_AMT3','BILL_AMT4','BILL_AMT5' ,'BILL_AMT6','PAY_AMT1','PAY_AMT2','PAY_AMT3' ,'PAY_AMT4' ,'PAY_AMT5' ,'PAY_AMT6']\n",
    "\n",
    "# collect all the encoders\n",
    "preprocessor = ColumnTransformer(\n",
    "    transformers=[\n",
    "        ('onehot', OneHotEncoder(sparse=False,handle_unknown='ignore'), onehot_ftrs),\n",
    "        ('minmax', MinMaxScaler(), minmax_ftrs),\n",
    "        ('std', StandardScaler(), std_ftrs)])\n",
    "\n",
    "prep = Pipeline(steps=[('preprocessor', preprocessor)])"
   ]
  },
  {
   "cell_type": "code",
   "execution_count": 9,
   "id": "b0a1b7e4",
   "metadata": {},
   "outputs": [
    {
     "data": {
      "text/plain": [
       "{'subsample': 0.66,\n",
       " 'seed': 1354,\n",
       " 'reg_alpha': 1,\n",
       " 'n_estimators': 10000,\n",
       " 'max_depth': 10,\n",
       " 'learning_rate': 0.03,\n",
       " 'colsample_bytree': 0.7}"
      ]
     },
     "execution_count": 9,
     "metadata": {},
     "output_type": "execute_result"
    }
   ],
   "source": [
    "ParameterGrid(param_grid)[0]"
   ]
  },
  {
   "cell_type": "code",
   "execution_count": 5,
   "id": "31f42ec6",
   "metadata": {},
   "outputs": [],
   "source": [
    "param_grid = {\"learning_rate\": [0.03],\n",
    "              \"n_estimators\": [10000],\n",
    "              \"seed\": [1354],\n",
    "              \"reg_alpha\": [1],\n",
    "              #\"reg_lambda\": [0, 1e-2, 1e-1, 1e0, 1e1, 1e2],\n",
    "              #\"missing\": [np.nan], \n",
    "              \"max_depth\": [10],\n",
    "              \"colsample_bytree\": [0.7],              \n",
    "              \"subsample\": [0.66]}"
   ]
  },
  {
   "cell_type": "code",
   "execution_count": 28,
   "id": "12a22bbe",
   "metadata": {},
   "outputs": [],
   "source": [
    "import xgboost\n",
    "def xgb_f1(X, y, prep, param_grid):\n",
    "    '''\n",
    "    This function splits the data to train/val/test using stratified split\n",
    "    Gets best params using val\n",
    "    trains model\n",
    "    Gets test score \n",
    "    For 10 dif random states\n",
    "    '''\n",
    "    nr_states = 100\n",
    "    test_scores = np.zeros(nr_states)\n",
    "    best_models = []\n",
    "    \n",
    "    ##Split\n",
    "    for i in range(nr_states):\n",
    "        X_train, X_other, y_train, y_other = train_test_split(X,y,train_size = 0.6,stratify=y,random_state=37*i)\n",
    "        X_val, X_test, y_val, y_test = train_test_split(X_other,y_other,train_size = 0.5,stratify=y_other,random_state=37*i)\n",
    "        X_train_prep = prep.fit_transform(X_train)\n",
    "        X_val_prep = prep.transform(X_val)\n",
    "        X_test_prep = prep.transform(X_test)\n",
    "        XGB = xgboost.XGBRegressor()\n",
    "        XGB.set_params(**ParameterGrid(param_grid)[0],objective = 'binary:hinge',random_state=37*i)\n",
    "        XGB.fit(X_train_prep,y_train,early_stopping_rounds=50,eval_set=[(X_val_prep, y_val)], verbose=False, eval_metric = 'auc')\n",
    "    #calculate and save the test score\n",
    "        best_models.append(XGB)\n",
    "        y_test_pred = XGB.predict(X_test_prep)\n",
    "        test_scores[i] = fbeta_score(y_test,y_test_pred,beta=1)\n",
    "    return best_models, test_scores\n"
   ]
  },
  {
   "cell_type": "code",
   "execution_count": 29,
   "id": "34ca0fec",
   "metadata": {},
   "outputs": [
    {
     "ename": "AttributeError",
     "evalue": "'tuple' object has no attribute 'mean'",
     "output_type": "error",
     "traceback": [
      "\u001b[0;31m---------------------------------------------------------------------------\u001b[0m",
      "\u001b[0;31mAttributeError\u001b[0m                            Traceback (most recent call last)",
      "\u001b[0;32m/var/folders/tq/qgywsy792xx631f1y653zbsr0000gn/T/ipykernel_42901/2146322746.py\u001b[0m in \u001b[0;36m<module>\u001b[0;34m\u001b[0m\n\u001b[0;32m----> 1\u001b[0;31m \u001b[0mfinal_mods\u001b[0m\u001b[0;34m,\u001b[0m \u001b[0mtest_scores\u001b[0m \u001b[0;34m=\u001b[0m \u001b[0mxgb_f1\u001b[0m\u001b[0;34m(\u001b[0m\u001b[0mX\u001b[0m\u001b[0;34m,\u001b[0m \u001b[0my\u001b[0m\u001b[0;34m,\u001b[0m \u001b[0mprep\u001b[0m\u001b[0;34m,\u001b[0m \u001b[0mparam_grid\u001b[0m\u001b[0;34m)\u001b[0m\u001b[0;34m.\u001b[0m\u001b[0mmean\u001b[0m\u001b[0;34m(\u001b[0m\u001b[0;34m)\u001b[0m\u001b[0;34m\u001b[0m\u001b[0;34m\u001b[0m\u001b[0m\n\u001b[0m",
      "\u001b[0;31mAttributeError\u001b[0m: 'tuple' object has no attribute 'mean'"
     ]
    }
   ],
   "source": [
    "final_mods, test_scores = xgb_f1(X, y, prep, param_grid).mean()"
   ]
  },
  {
   "cell_type": "markdown",
   "id": "e5105782",
   "metadata": {},
   "source": []
  }
 ],
 "metadata": {
  "kernelspec": {
   "display_name": "Python 3 (ipykernel)",
   "language": "python",
   "name": "python3"
  },
  "language_info": {
   "codemirror_mode": {
    "name": "ipython",
    "version": 3
   },
   "file_extension": ".py",
   "mimetype": "text/x-python",
   "name": "python",
   "nbconvert_exporter": "python",
   "pygments_lexer": "ipython3",
   "version": "3.9.7"
  }
 },
 "nbformat": 4,
 "nbformat_minor": 5
}
