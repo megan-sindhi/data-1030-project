{
 "cells": [
  {
   "cell_type": "code",
   "execution_count": 1,
   "id": "ca4bbdf8",
   "metadata": {},
   "outputs": [],
   "source": [
    "import pandas as pd\n",
    "import numpy as np\n",
    "from sklearn.model_selection import train_test_split \n",
    "from sklearn.compose import ColumnTransformer\n",
    "from sklearn.pipeline import Pipeline\n",
    "from sklearn.preprocessing import StandardScaler, OneHotEncoder, MinMaxScaler\n",
    "from sklearn.model_selection import train_test_split\n",
    "from sklearn.metrics import fbeta_score\n",
    "from sklearn.ensemble import RandomForestClassifier\n",
    "from sklearn.model_selection import ParameterGrid"
   ]
  },
  {
   "cell_type": "code",
   "execution_count": 2,
   "id": "50ae58fc",
   "metadata": {},
   "outputs": [],
   "source": [
    "df = pd.read_excel(\"../data/default of credit card clients.xls\", header = 1)\n",
    "\n",
    "df = df.rename(columns={'default payment next month': 'DEFAULT'})\n",
    "df['EDUCATION'] = df['EDUCATION'].replace([5],4) ##5 and 6 are also others which is what 4 is\n",
    "df['EDUCATION'] = df['EDUCATION'].replace([6],4)\n",
    "X = df.drop(columns = ['DEFAULT','ID'])\n",
    "y= df['DEFAULT']\n"
   ]
  },
  {
   "cell_type": "code",
   "execution_count": 3,
   "id": "2b2151d7",
   "metadata": {},
   "outputs": [],
   "source": [
    "onehot_ftrs = ['SEX','EDUCATION', 'MARRIAGE', 'PAY_0', 'PAY_2' ,'PAY_3', 'PAY_4','PAY_5','PAY_6']\n",
    "minmax_ftrs = ['AGE']\n",
    "std_ftrs = ['LIMIT_BAL','BILL_AMT1','BILL_AMT2' ,'BILL_AMT3','BILL_AMT4','BILL_AMT5' ,'BILL_AMT6','PAY_AMT1','PAY_AMT2','PAY_AMT3' ,'PAY_AMT4' ,'PAY_AMT5' ,'PAY_AMT6']\n",
    "\n",
    "# collect all the encoders\n",
    "preprocessor = ColumnTransformer(\n",
    "    transformers=[\n",
    "        ('onehot', OneHotEncoder(sparse=False,handle_unknown='ignore'), onehot_ftrs),\n",
    "        ('minmax', MinMaxScaler(), minmax_ftrs),\n",
    "        ('std', StandardScaler(), std_ftrs)])\n",
    "\n",
    "prep = Pipeline(steps=[('preprocessor', preprocessor)])"
   ]
  },
  {
   "cell_type": "code",
   "execution_count": 4,
   "id": "70cd24ed",
   "metadata": {},
   "outputs": [],
   "source": [
    "\n",
    "def RF_f1(X, y, prep, param_grid):\n",
    "    '''\n",
    "    This function splits the data to train/val/test using stratified split\n",
    "    Gets best params using val\n",
    "    trains model\n",
    "    Gets test score \n",
    "    For 5 dif random states\n",
    "    '''\n",
    "    nr_states = 5\n",
    "    test_scores = np.zeros(nr_states)\n",
    "    best_models = []\n",
    "    \n",
    "    ##Split\n",
    "    for i in range(nr_states):\n",
    "        X_train, X_other, y_train, y_other = train_test_split(X,y,train_size = 0.6,stratify=y,random_state=37*i)\n",
    "        X_val, X_test, y_val, y_test = train_test_split(X_other,y_other,train_size = 0.5,stratify=y_other,random_state=37*i)\n",
    "\n",
    "        X_train_prep = prep.fit_transform(X_train)\n",
    "        X_val_prep = prep.transform(X_val)\n",
    "        X_test_prep = prep.transform(X_test)\n",
    "        train_score = np.zeros(len(ParameterGrid(param_grid)))\n",
    "        val_score = np.zeros(len(ParameterGrid(param_grid)))\n",
    "        models = []\n",
    "        for p in range(len(ParameterGrid(param_grid))):\n",
    "            params = ParameterGrid(param_grid)[p] \n",
    "            clf = RandomForestClassifier(**params,random_state = 37*i,n_jobs=-1) # initialize the classifier\n",
    "            clf.fit(X_train_prep,y_train) # fit the model\n",
    "            models.append(clf) \n",
    "        # calculate train and validation fbeta scores\n",
    "            y_train_pred = clf.predict(X_train_prep)\n",
    "            train_score[p] = fbeta_score(y_train,y_train_pred, beta = 1)\n",
    "            y_val_pred = clf.predict(X_val_prep)\n",
    "            val_score[p] = fbeta_score(y_val,y_val_pred, beta = 1)\n",
    "    \n",
    "    # collect and save the best model\n",
    "        best_models.append(models[np.argmax(val_score)])\n",
    "    #calculate and save the test score\n",
    "        y_test_pred = best_models[-1].predict(X_test_prep)\n",
    "        test_scores[i] = fbeta_score(y_test,y_test_pred,beta=1)\n",
    "    return best_models, test_scores\n"
   ]
  },
  {
   "cell_type": "code",
   "execution_count": 6,
   "id": "5c161a52",
   "metadata": {},
   "outputs": [],
   "source": [
    "##baseline f1 is 0.362296\n",
    "param_grid = {\n",
    "              'min_samples_leaf' : [1,2,5,10],\n",
    "              'max_depth': [1, 3, 10, 30, 100], # the max_depth should be smaller or equal than the number of features roughly\n",
    "              'max_features': [0.5,0.75,1.0] # linearly spaced between 0.5 and 1\n",
    "              } \n",
    "rf_bestmodels, rf_test_scores = RF_f1(X, y, prep, param_grid)"
   ]
  },
  {
   "cell_type": "code",
   "execution_count": 7,
   "id": "c4d256b6",
   "metadata": {},
   "outputs": [
    {
     "data": {
      "text/plain": [
       "array([0.44950495, 0.46461689, 0.47103877, 0.4691358 , 0.48390244])"
      ]
     },
     "execution_count": 7,
     "metadata": {},
     "output_type": "execute_result"
    }
   ],
   "source": [
    "rf_test_scores"
   ]
  },
  {
   "cell_type": "code",
   "execution_count": 8,
   "id": "9094a1aa",
   "metadata": {},
   "outputs": [],
   "source": [
    "from sklearn.linear_model import LogisticRegression\n",
    "from sklearn.metrics import roc_auc_score\n",
    "\n",
    "def LogReg_f1(X, y, prep, param_grid, penalty):\n",
    "    '''\n",
    "    This function splits the data to train/val/test using stratified split\n",
    "    Gets best params using val\n",
    "    trains model\n",
    "    Gets test score \n",
    "    For 5 dif random states\n",
    "    '''\n",
    "    nr_states = 5\n",
    "    test_scores = np.zeros(nr_states)\n",
    "    best_models = []\n",
    "    \n",
    "    ##Split\n",
    "    for i in range(nr_states):\n",
    "        X_train, X_other, y_train, y_other = train_test_split(X,y,train_size = 0.6,stratify=y,random_state=37*i)\n",
    "        X_val, X_test, y_val, y_test = train_test_split(X_other,y_other,train_size = 0.5,stratify=y_other,random_state=37*i)\n",
    "\n",
    "        X_train_prep = prep.fit_transform(X_train)\n",
    "        X_val_prep = prep.transform(X_val)\n",
    "        X_test_prep = prep.transform(X_test)\n",
    "        train_score = np.zeros(len(ParameterGrid(param_grid)))\n",
    "        val_score = np.zeros(len(ParameterGrid(param_grid)))\n",
    "        models = []\n",
    "        for p in range(len(ParameterGrid(param_grid))):\n",
    "            params = ParameterGrid(param_grid)[p] \n",
    "            clf = LogisticRegression(**params,penalty = penalty, random_state = 37*i,n_jobs=-1,solver = 'saga',max_iter = 100000) # initialize the classifier\n",
    "            clf.fit(X_train_prep,y_train) # fit the model\n",
    "            models.append(clf) \n",
    "        # calculate train and validation fbeta scores\n",
    "            y_train_pred = clf.predict(X_train_prep)\n",
    "            train_score[p] = fbeta_score(y_train,y_train_pred, beta = 1)\n",
    "            y_val_pred = clf.predict(X_val_prep)\n",
    "            val_score[p] = fbeta_score(y_val,y_val_pred, beta = 1)\n",
    "    \n",
    "    # collect and save the best model\n",
    "        best_models.append(models[np.argmax(val_score)])\n",
    "    # calculate and save the test score\n",
    "        y_test_pred = best_models[-1].predict(X_test_prep)\n",
    "        test_scores[i] = fbeta_score(y_test,y_test_pred, beta = 1)\n",
    "    return best_models, test_scores\n"
   ]
  },
  {
   "cell_type": "code",
   "execution_count": 9,
   "id": "a82c7a20",
   "metadata": {},
   "outputs": [],
   "source": [
    "param_grid = {\n",
    "              'C': [1e-4, 1e-3, 1e-2, 1e-1, 1e0, 1e1, 1e2, 1e3, 1e4]\n",
    "}\n",
    "l1_bestmodels, l1_test_scores = LogReg_f1(X, y, prep, param_grid, 'l1')"
   ]
  },
  {
   "cell_type": "code",
   "execution_count": 10,
   "id": "9b03be45",
   "metadata": {},
   "outputs": [
    {
     "data": {
      "text/plain": [
       "array([0.44095286, 0.4501992 , 0.478389  , 0.45708681, 0.46683292])"
      ]
     },
     "execution_count": 10,
     "metadata": {},
     "output_type": "execute_result"
    }
   ],
   "source": [
    "l1_test_scores"
   ]
  },
  {
   "cell_type": "code",
   "execution_count": 11,
   "id": "4843eb39",
   "metadata": {},
   "outputs": [],
   "source": [
    "param_grid = {\n",
    "              'C': [1e-4, 1e-3, 1e-2, 1e-1, 1e0, 1e1, 1e2, 1e3, 1e4]\n",
    "}\n",
    "l2_bestmodels, l2_test_scores = LogReg_f1(X, y, prep, param_grid, 'l2')"
   ]
  },
  {
   "cell_type": "code",
   "execution_count": 12,
   "id": "6819ec74",
   "metadata": {},
   "outputs": [
    {
     "data": {
      "text/plain": [
       "array([0.44196655, 0.44897959, 0.4771274 , 0.45837414, 0.46859422])"
      ]
     },
     "execution_count": 12,
     "metadata": {},
     "output_type": "execute_result"
    }
   ],
   "source": [
    "l2_test_scores"
   ]
  },
  {
   "cell_type": "code",
   "execution_count": 13,
   "id": "08ed7ded",
   "metadata": {},
   "outputs": [],
   "source": [
    "param_grid = {\n",
    "              'C': [1e-4, 1e-3, 1e-2, 1e-1, 1e0, 1e1, 1e2, 1e3, 1e4],\n",
    "            'l1_ratio': [0.01, 0.1, 0.25, 0.5,0.75, 0.9, 0.99]\n",
    "}\n",
    "elasticnet_bestmodels, elasticnet_test_scores = LogReg_f1(X, y, prep, param_grid, 'elasticnet')"
   ]
  },
  {
   "cell_type": "code",
   "execution_count": 14,
   "id": "d3c04dc3",
   "metadata": {},
   "outputs": [
    {
     "data": {
      "text/plain": [
       "array([0.44196655, 0.4501992 , 0.47590954, 0.45383104, 0.46859422])"
      ]
     },
     "execution_count": 14,
     "metadata": {},
     "output_type": "execute_result"
    }
   ],
   "source": [
    "elasticnet_test_scores"
   ]
  },
  {
   "cell_type": "code",
   "execution_count": 58,
   "id": "e25b79b7",
   "metadata": {},
   "outputs": [],
   "source": [
    "from sklearn.neighbors import KNeighborsClassifier\n",
    "def KN_f1(X, y, prep, param_grid):\n",
    "    '''\n",
    "    This function splits the data to train/val/test using stratified split\n",
    "    Gets best params using val\n",
    "    trains model\n",
    "    Gets test score \n",
    "    For 5 dif random states\n",
    "    '''\n",
    "    nr_states = 5\n",
    "    test_scores = np.zeros(nr_states)\n",
    "    best_models = []\n",
    "    \n",
    "    ##Split\n",
    "    for i in range(nr_states):\n",
    "        X_train, X_other, y_train, y_other = train_test_split(X,y,train_size = 0.6,stratify=y,random_state=37*i)\n",
    "        X_val, X_test, y_val, y_test = train_test_split(X_other,y_other,train_size = 0.5,stratify=y_other,random_state=37*i)\n",
    "\n",
    "        X_train_prep = prep.fit_transform(X_train)\n",
    "        X_val_prep = prep.transform(X_val)\n",
    "        X_test_prep = prep.transform(X_test)\n",
    "        train_score = np.zeros(len(ParameterGrid(param_grid)))\n",
    "        val_score = np.zeros(len(ParameterGrid(param_grid)))\n",
    "        models = []\n",
    "        for p in range(len(ParameterGrid(param_grid))):\n",
    "            params = ParameterGrid(param_grid)[p] \n",
    "            clf = KNeighborsClassifier(**params,n_jobs=-1) # initialize the classifier\n",
    "            clf.fit(X_train_prep,y_train) # fit the model\n",
    "            models.append(clf) \n",
    "        # calculate train and validation fbeta scores\n",
    "            y_train_pred = clf.predict(X_train_prep)\n",
    "            train_score[p] = fbeta_score(y_train,y_train_pred, beta = 1)\n",
    "            y_val_pred = clf.predict(X_val_prep)\n",
    "            val_score[p] = fbeta_score(y_val,y_val_pred, beta = 1)\n",
    "    \n",
    "    # collect and save the best model\n",
    "        best_models.append(models[np.argmax(val_score)])\n",
    "    #calculate and save the test score\n",
    "        y_test_pred = best_models[-1].predict(X_test_prep)\n",
    "        test_scores[i] = fbeta_score(y_test,y_test_pred,beta=1)\n",
    "    return best_models, test_scores\n"
   ]
  },
  {
   "cell_type": "code",
   "execution_count": 59,
   "id": "e1e5e4d0",
   "metadata": {},
   "outputs": [],
   "source": [
    "param_grid = {\n",
    "              'n_neighbors': [3, 10, 30, 100], \n",
    "              'weights':['uniform','distance']\n",
    "              } \n",
    "knn_bestmodels, knn_test_scores = KN_f1(X, y, prep, param_grid)"
   ]
  },
  {
   "cell_type": "code",
   "execution_count": 60,
   "id": "4a2a32b8",
   "metadata": {},
   "outputs": [
    {
     "data": {
      "text/plain": [
       "array([0.41658537, 0.42367906, 0.41894531, 0.42569511, 0.43179588])"
      ]
     },
     "execution_count": 60,
     "metadata": {},
     "output_type": "execute_result"
    }
   ],
   "source": [
    "knn_test_scores"
   ]
  },
  {
   "cell_type": "code",
   "execution_count": 90,
   "id": "cd83ee13",
   "metadata": {},
   "outputs": [],
   "source": [
    "import xgboost\n",
    "def xgb_f1(X, y, prep, param_grid):\n",
    "    '''\n",
    "    This function splits the data to train/val/test using stratified split\n",
    "    Gets best params using val\n",
    "    trains model\n",
    "    Gets test score \n",
    "    For 5 dif random states\n",
    "    '''\n",
    "    nr_states = 5\n",
    "    test_scores = np.zeros(nr_states)\n",
    "    best_models = []\n",
    "    \n",
    "    ##Split\n",
    "    for i in range(nr_states):\n",
    "        X_train, X_other, y_train, y_other = train_test_split(X,y,train_size = 0.6,stratify=y,random_state=37*i)\n",
    "        X_val, X_test, y_val, y_test = train_test_split(X_other,y_other,train_size = 0.5,stratify=y_other,random_state=37*i)\n",
    "\n",
    "        X_train_prep = prep.fit_transform(X_train)\n",
    "        X_val_prep = prep.transform(X_val)\n",
    "        X_test_prep = prep.transform(X_test)\n",
    "        train_score = np.zeros(len(ParameterGrid(param_grid)))\n",
    "        val_score = np.zeros(len(ParameterGrid(param_grid)))\n",
    "        models = []\n",
    "        for p in range(len(ParameterGrid(param_grid))):\n",
    "            XGB = xgboost.XGBClassifier()\n",
    "            XGB.set_params(**ParameterGrid(param_grid)[p],objective = 'binary:hinge',random_state = 37*i)\n",
    "            XGB.fit(X_train_prep,y_train,early_stopping_rounds=50,eval_set=[(X_val_prep, y_val)], verbose=False, eval_metric = 'auc')\n",
    "            y_val_pred = XGB.predict(X_val_prep)\n",
    "            val_score[p] = fbeta_score(y_val,y_val_pred,beta=1)\n",
    "            models.append(XGB)\n",
    "    # collect and save the best model\n",
    "        best_models.append(models[np.argmax(val_score)])\n",
    "    #calculate and save the test score\n",
    "        y_test_pred = best_models[-1].predict(X_test_prep)\n",
    "        test_scores[i] = fbeta_score(y_test,y_test_pred,beta=1)\n",
    "    return best_models, test_scores\n"
   ]
  },
  {
   "cell_type": "code",
   "execution_count": 91,
   "id": "942f6fcf",
   "metadata": {},
   "outputs": [],
   "source": [
    "param_grid = {\"learning_rate\": [0.03],\n",
    "              \"n_estimators\": [10000],\n",
    "              \"seed\": [1354],\n",
    "              \"reg_alpha\": [0, 1e-2, 1e-1, 1e0, 1e1, 1e2],\n",
    "              #\"reg_lambda\": [0, 1e-2, 1e-1, 1e0, 1e1, 1e2],\n",
    "              #\"missing\": [np.nan], \n",
    "              \"max_depth\": [1,3,10,30,100],\n",
    "              \"colsample_bytree\": [0.5, 0.7,0.9],              \n",
    "              \"subsample\": [0.5, 0.66, 0.75, 1]}"
   ]
  },
  {
   "cell_type": "code",
   "execution_count": 92,
   "id": "5edb8979",
   "metadata": {},
   "outputs": [],
   "source": [
    "xgb_bestmodels, xgb_test_scores = xgb_f1(X, y, prep, param_grid)"
   ]
  },
  {
   "cell_type": "code",
   "execution_count": 93,
   "id": "505b4fc3",
   "metadata": {},
   "outputs": [
    {
     "data": {
      "text/plain": [
       "array([0.5158371 , 0.53190755, 0.53474837, 0.53266998, 0.54961295])"
      ]
     },
     "execution_count": 93,
     "metadata": {},
     "output_type": "execute_result"
    }
   ],
   "source": [
    "xgb_test_scores"
   ]
  },
  {
   "cell_type": "code",
   "execution_count": null,
   "id": "f33aaeeb",
   "metadata": {
    "scrolled": true
   },
   "outputs": [],
   "source": [
    "xgb_bestmodels"
   ]
  },
  {
   "cell_type": "code",
   "execution_count": 78,
   "id": "a0468ddb",
   "metadata": {},
   "outputs": [
    {
     "data": {
      "text/plain": [
       "[XGBRegressor(base_score=0.5, booster='gbtree', colsample_bylevel=1,\n",
       "              colsample_bynode=1, colsample_bytree=0.9, gamma=0, gpu_id=-1,\n",
       "              importance_type='gain', interaction_constraints='',\n",
       "              learning_rate=0.03, max_delta_step=0, max_depth=30,\n",
       "              min_child_weight=1, missing=nan, monotone_constraints='()',\n",
       "              n_estimators=10000, n_jobs=4, num_parallel_tree=1,\n",
       "              objective='binary:hinge', random_state=1354, reg_alpha=0.1,\n",
       "              reg_lambda=1, scale_pos_weight=3.5454545454545454, seed=1354,\n",
       "              subsample=0.66, tree_method='exact', validate_parameters=1,\n",
       "              verbosity=None)]"
      ]
     },
     "execution_count": 78,
     "metadata": {},
     "output_type": "execute_result"
    }
   ],
   "source": [
    "means = [rf_test_scores.mean(), l1_test_scores.mean(), l2_test_scores.mean(), elasticnet_test_scores.mean(),knn_test_scores.mean(),xgb_test_scores.mean()]\n",
    "sds = [rf_test_scores.std(), l1_test_scores.std(), l2_test_scores.std(), elasticnet_test_scores.std(),knn_test_scores.std(),xgb_test_scores.std()]\n",
    "names = ['RF', 'L1', 'L2', 'Elastic','KNN','XGB' ]\n",
    "xpos = np.arange(len(names))"
   ]
  },
  {
   "cell_type": "code",
   "execution_count": 89,
   "id": "f1c6dfef",
   "metadata": {
    "scrolled": false
   },
   "outputs": [
    {
     "data": {
      "image/png": "[encoded data removed]",
      "text/plain": [
       "<Figure size 432x288 with 1 Axes>"
      ]
     },
     "metadata": {
      "needs_background": "light"
     },
     "output_type": "display_data"
    }
   ],
   "source": [
    "import matplotlib.pyplot as plt\n",
    "fig, ax = plt.subplots()\n",
    "ax.bar(xpos, means, yerr=sds, align='center', alpha=0.5, ecolor='black', capsize=10)\n",
    "ax.set_ylabel('F1 Score')\n",
    "ax.set_xticks(xpos)\n",
    "ax.set_xlabel('Model')\n",
    "ax.set_xticklabels(names)\n",
    "ax.set_title('Test Score Mean and SD')\n",
    "ax.yaxis.grid(True)\n",
    "\n",
    "plt.tight_layout()\n",
    "plt.show()\n",
    "plt.savefig('../figures/model_comparison.png', dpi=300, format='png')"
   ]
  },
  {
   "cell_type": "code",
   "execution_count": 88,
   "id": "c33bb643",
   "metadata": {},
   "outputs": [],
   "source": []
  }
 ],
 "metadata": {
  "kernelspec": {
   "display_name": "Python 3 (ipykernel)",
   "language": "python",
   "name": "python3"
  },
  "language_info": {
   "codemirror_mode": {
    "name": "ipython",
    "version": 3
   },
   "file_extension": ".py",
   "mimetype": "text/x-python",
   "name": "python",
   "nbconvert_exporter": "python",
   "pygments_lexer": "ipython3",
   "version": "3.9.7"
  }
 },
 "nbformat": 4,
 "nbformat_minor": 5
}
